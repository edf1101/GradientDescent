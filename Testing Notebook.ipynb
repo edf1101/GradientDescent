{
 "cells": [
  {
   "cell_type": "markdown",
   "source": [
    "# Gradient Descent Testing"
   ],
   "metadata": {
    "collapsed": false
   },
   "id": "adb79ca3441caebc"
  },
  {
   "cell_type": "markdown",
   "source": [
    "## Info\n",
    "Modules Used\n",
    "- Matplotlib (if you want to visualise)\n",
    "- Random (If you want to create random set of training data / train-test-split)\n",
    "\n",
    "Parameters (for OK results)\n",
    "- Quartic - learning = 0.0000000003\n",
    "- Cubic - learning = 0.00000003\n",
    "- Quadratic - learning = 0.000001\n",
    "- Linear - learning = 0.0003\n",
    "- In general for each extra polynomial term you add it should be ~100x smaller"
   ],
   "metadata": {
    "collapsed": false
   },
   "id": "77e21ea714845e5f"
  },
  {
   "cell_type": "markdown",
   "source": [
    "## Import modules"
   ],
   "metadata": {
    "collapsed": false
   },
   "id": "c8ceb66de1c9fe99"
  },
  {
   "cell_type": "code",
   "execution_count": 69,
   "id": "initial_id",
   "metadata": {
    "collapsed": true,
    "ExecuteTime": {
     "end_time": "2023-10-12T14:23:07.395156Z",
     "start_time": "2023-10-12T14:23:07.378083Z"
    }
   },
   "outputs": [],
   "source": [
    "import random\n",
    "import matplotlib.pyplot as plt\n",
    "\n"
   ]
  },
  {
   "cell_type": "markdown",
   "source": [
    "## Function to return the y value when inputted x coordinate and coefficents of a curve"
   ],
   "metadata": {
    "collapsed": false
   },
   "id": "fe545e7ef691d32a"
  },
  {
   "cell_type": "code",
   "execution_count": 70,
   "outputs": [],
   "source": [
    "coefficients = [-2, -30, 10, 25, -6]\n",
    "\n",
    "\n",
    "def line(x, coeff):\n",
    "    y = 0\n",
    "    for i in range(len(coeff)):\n",
    "        y += coeff[-i - 1] * (x ** i)\n",
    "\n",
    "    return y\n",
    "\n"
   ],
   "metadata": {
    "collapsed": false,
    "ExecuteTime": {
     "end_time": "2023-10-12T14:23:07.402372Z",
     "start_time": "2023-10-12T14:23:07.381259Z"
    }
   },
   "id": "5f98d12f03c6f874"
  },
  {
   "cell_type": "markdown",
   "source": [
    "## Generate test points on a line with a little offset"
   ],
   "metadata": {
    "collapsed": false
   },
   "id": "45d80d6af00b497c"
  },
  {
   "cell_type": "code",
   "execution_count": 71,
   "outputs": [],
   "source": [
    "points = []\n",
    "offsetRange = 0.3\n",
    "for i in range(100):\n",
    "    x = random.uniform(-10, 10)\n",
    "    y = line(x, coefficients)\n",
    "    offset = random.uniform(-1.0, 1) * offsetRange\n",
    "    point = (x + offset, y + offset)\n",
    "    points.append(point)\n",
    "\n",
    "x_coordinates = [i[0] for i in points]\n",
    "y_coordinates = [i[1] for i in points]\n"
   ],
   "metadata": {
    "collapsed": false,
    "ExecuteTime": {
     "end_time": "2023-10-12T14:23:07.403378Z",
     "start_time": "2023-10-12T14:23:07.385190Z"
    }
   },
   "id": "164170474944005d"
  },
  {
   "cell_type": "code",
   "execution_count": 72,
   "outputs": [
    {
     "data": {
      "text/plain": "<matplotlib.collections.PathCollection at 0x129c354d0>"
     },
     "execution_count": 72,
     "metadata": {},
     "output_type": "execute_result"
    },
    {
     "data": {
      "text/plain": "<Figure size 640x480 with 1 Axes>",
      "image/png": "[encoded data removed]"
     },
     "metadata": {},
     "output_type": "display_data"
    }
   ],
   "source": [
    "plt.scatter(x_coordinates, y_coordinates)\n",
    "\n"
   ],
   "metadata": {
    "collapsed": false,
    "ExecuteTime": {
     "end_time": "2023-10-12T14:23:07.453883Z",
     "start_time": "2023-10-12T14:23:07.391969Z"
    }
   },
   "id": "61d9400c3150bef0"
  },
  {
   "cell_type": "markdown",
   "source": [
    "## Defining a Loss function\n",
    "\n",
    "Here we use Residual sum of squares "
   ],
   "metadata": {
    "collapsed": false
   },
   "id": "d4e73a7ccdde4a08"
  },
  {
   "cell_type": "code",
   "execution_count": 73,
   "outputs": [],
   "source": [
    "def sum_of_squared_residuals(coeff):\n",
    "    sum = 0\n",
    "    for x, y in zip(x_coordinates, y_coordinates):\n",
    "        sum += (y - line(x, coeff)) ** 2\n",
    "\n",
    "    return sum\n"
   ],
   "metadata": {
    "collapsed": false,
    "ExecuteTime": {
     "end_time": "2023-10-12T14:23:07.456722Z",
     "start_time": "2023-10-12T14:23:07.455579Z"
    }
   },
   "id": "ac852cc1a46a4541"
  },
  {
   "cell_type": "markdown",
   "source": [
    "### These are for calculating the gradient at a certain point on our RSS curve"
   ],
   "metadata": {
    "collapsed": false
   },
   "id": "608f325ae504529b"
  },
  {
   "cell_type": "code",
   "execution_count": 74,
   "outputs": [],
   "source": [
    "def get_part_dif(_coeff, diff_to, _point):\n",
    "    mult = -2 * (_point[0] ** (len(_coeff) - diff_to - 1))\n",
    "    calc = _point[1] - line(_point[0], _coeff)\n",
    "    return calc * mult\n"
   ],
   "metadata": {
    "collapsed": false,
    "ExecuteTime": {
     "end_time": "2023-10-12T14:23:07.458582Z",
     "start_time": "2023-10-12T14:23:07.457692Z"
    }
   },
   "id": "cfafbfcf032e55b4"
  },
  {
   "cell_type": "code",
   "execution_count": 75,
   "outputs": [],
   "source": [
    "def get_RSS_dif(_coeff, respect_to):\n",
    "    der = 0\n",
    "    for x, y in zip(x_coordinates, y_coordinates):\n",
    "        der += get_part_dif(_coeff, respect_to, [x, y])\n",
    "    return der\n",
    "\n",
    "\n"
   ],
   "metadata": {
    "collapsed": false,
    "ExecuteTime": {
     "end_time": "2023-10-12T14:23:07.460821Z",
     "start_time": "2023-10-12T14:23:07.459648Z"
    }
   },
   "id": "c1ddecc4a8ae97fe"
  },
  {
   "cell_type": "markdown",
   "source": [
    "## Gradient Descent Algorithm"
   ],
   "metadata": {
    "collapsed": false
   },
   "id": "e830bb8472d72848"
  },
  {
   "cell_type": "code",
   "execution_count": 76,
   "outputs": [
    {
     "name": "stdout",
     "output_type": "stream",
     "text": [
      "[-2, -30, 10, 25, -6]\n",
      "[-1.8415047707576189, -29.510303034223554, 2.2172424850464307, 5.465327218273902, -3.89023181684948]\n"
     ]
    }
   ],
   "source": [
    "a = random.uniform(-10, 10)\n",
    "b = random.uniform(-10, 10)\n",
    "c = random.uniform(-10, 10)\n",
    "\n",
    "coefficient_count = len(coefficients)\n",
    "\n",
    "temp_coeff = [random.uniform(-10, 10) for i in range(coefficient_count)]\n",
    "temp_steps = [0 for i in range(coefficient_count)]\n",
    "\n",
    "learning = 0.0000000003\n",
    "attempts = 50000\n",
    "debug = False\n",
    "alphabet = 'abcdefg'\n",
    "print(coefficients)\n",
    "\n",
    "for i in range(attempts):\n",
    "    if (debug):\n",
    "        print(f'iter {i}')\n",
    "        SSR = sum_of_squared_residuals([a, b, c])\n",
    "        print(f'SSR = {SSR} \\n')\n",
    "\n",
    "    for i in range(coefficient_count):\n",
    "\n",
    "        temp_steps[i] = -learning * get_RSS_dif(temp_coeff, i)\n",
    "        if (debug):\n",
    "            print(f'{alphabet[i]} = {temp_coeff[i]}')\n",
    "            print(f'step_{alphabet[i]} = {temp_steps[i]}')\n",
    "        temp_coeff[i] += temp_steps[i]\n",
    "\n",
    "    if (debug):\n",
    "        print()\n",
    "    all_below = True\n",
    "    for i in temp_steps:\n",
    "        if abs(i) > 0.0001:\n",
    "            all_below = False\n",
    "\n",
    "    if all_below:\n",
    "        break\n",
    "\n",
    "print(temp_coeff)\n"
   ],
   "metadata": {
    "collapsed": false,
    "ExecuteTime": {
     "end_time": "2023-10-12T14:23:07.749272Z",
     "start_time": "2023-10-12T14:23:07.505962Z"
    }
   },
   "id": "d1818bba0a0a0e41"
  },
  {
   "cell_type": "markdown",
   "source": [
    "## Plotting test data against Predicted curve"
   ],
   "metadata": {
    "collapsed": false
   },
   "id": "366d5475c351549b"
  },
  {
   "cell_type": "code",
   "execution_count": 77,
   "outputs": [
    {
     "data": {
      "text/plain": "[<matplotlib.lines.Line2D at 0x129c96f10>]"
     },
     "execution_count": 77,
     "metadata": {},
     "output_type": "execute_result"
    },
    {
     "data": {
      "text/plain": "<Figure size 640x480 with 1 Axes>",
      "image/png": "[encoded data removed]"
     },
     "metadata": {},
     "output_type": "display_data"
    }
   ],
   "source": [
    "Npoints = []\n",
    "ranges = [-10, 10]\n",
    "for i in range(ranges[0], ranges[1]):\n",
    "    x = i\n",
    "    y = line(x, temp_coeff)\n",
    "    point = (x, y)\n",
    "    Npoints.append(point)\n",
    "\n",
    "Nx_coordinates = [i[0] for i in Npoints]\n",
    "Ny_coordinates = [i[1] for i in Npoints]\n",
    "\n",
    "plt.scatter(x_coordinates, y_coordinates)\n",
    "plt.plot(Nx_coordinates, Ny_coordinates, c='r')"
   ],
   "metadata": {
    "collapsed": false,
    "ExecuteTime": {
     "end_time": "2023-10-12T14:23:07.808637Z",
     "start_time": "2023-10-12T14:23:07.755932Z"
    }
   },
   "id": "8c4a7efcc27512a2"
  },
  {
   "cell_type": "code",
   "execution_count": 77,
   "outputs": [],
   "source": [],
   "metadata": {
    "collapsed": false,
    "ExecuteTime": {
     "end_time": "2023-10-12T14:23:07.810157Z",
     "start_time": "2023-10-12T14:23:07.807975Z"
    }
   },
   "id": "3daad9c45a319116"
  }
 ],
 "metadata": {
  "kernelspec": {
   "display_name": "Python 3",
   "language": "python",
   "name": "python3"
  },
  "language_info": {
   "codemirror_mode": {
    "name": "ipython",
    "version": 2
   },
   "file_extension": ".py",
   "mimetype": "text/x-python",
   "name": "python",
   "nbconvert_exporter": "python",
   "pygments_lexer": "ipython2",
   "version": "2.7.6"
  }
 },
 "nbformat": 4,
 "nbformat_minor": 5
}
