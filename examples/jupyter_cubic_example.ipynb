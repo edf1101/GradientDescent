{
 "cells": [
  {
   "cell_type": "markdown",
   "source": [
    "# Example for Gradient Descent Library\n",
    "\n",
    "This script uses artificially generated data that roughly follows a quadratic and then with no knowledge of the original equation tries to figure out a curve that matches the data\n"
   ],
   "metadata": {
    "collapsed": false
   },
   "id": "a115c02ccc7afcde"
  },
  {
   "cell_type": "markdown",
   "source": [
    "## Import Libraries"
   ],
   "metadata": {
    "collapsed": false
   },
   "id": "aff84ab8ceaba6c7"
  },
  {
   "cell_type": "code",
   "execution_count": 1,
   "outputs": [],
   "source": [
    "import gradient_descent as gd\n",
    "import gradient_descent.points as gd_points\n",
    "import matplotlib.pyplot as plt"
   ],
   "metadata": {
    "collapsed": false,
    "ExecuteTime": {
     "end_time": "2023-12-18T19:15:27.665549Z",
     "start_time": "2023-12-18T19:15:27.447092Z"
    }
   },
   "id": "1e7a02eec0f2bea9"
  },
  {
   "cell_type": "markdown",
   "source": [
    "## Generate Points\n",
    "\n",
    "Generates 200 points for the curve 2x<sup>2</sup> - 3x + 4 with a random offset 0.3 in each direction\n"
   ],
   "metadata": {
    "collapsed": false
   },
   "id": "8d72389405becfd7"
  },
  {
   "cell_type": "code",
   "execution_count": 2,
   "outputs": [],
   "source": [
    "correct_coefficients = [1,-2,3,-6]\n",
    "points_array = gd_points.create_points(correct_coefficients, point_count=500, offset_range=0.2)"
   ],
   "metadata": {
    "collapsed": false,
    "ExecuteTime": {
     "end_time": "2023-12-18T19:15:27.682836Z",
     "start_time": "2023-12-18T19:15:27.676614Z"
    }
   },
   "id": "c5c04f758314cb01"
  },
  {
   "cell_type": "markdown",
   "source": [
    "### Put them into a train-test split\n",
    "\n",
    "Make the test size 40% of the training size"
   ],
   "metadata": {
    "collapsed": false
   },
   "id": "715dafb33beb5151"
  },
  {
   "cell_type": "code",
   "execution_count": 3,
   "outputs": [
    {
     "name": "stdout",
     "output_type": "stream",
     "text": [
      "Training Size = 350\n",
      "Testing Size = 150\n"
     ]
    }
   ],
   "source": [
    "train_set, test_set = gd_points.train_test_split(points_array,test_size=0.3)\n",
    "\n",
    "print(f'Training Size = {len(train_set)}')\n",
    "print(f'Testing Size = {len(test_set)}')"
   ],
   "metadata": {
    "collapsed": false,
    "ExecuteTime": {
     "end_time": "2023-12-18T19:15:27.711926Z",
     "start_time": "2023-12-18T19:15:27.691197Z"
    }
   },
   "id": "1a4151a7c6877a61"
  },
  {
   "cell_type": "markdown",
   "source": [
    "## Train the data \n",
    "\n",
    "Train it on a quadratic model, ie it has 3 terms in the polynomial, and pass in the points array and don't debug."
   ],
   "metadata": {
    "collapsed": false
   },
   "id": "6bffcd0b18047ae8"
  },
  {
   "cell_type": "code",
   "execution_count": 4,
   "outputs": [
    {
     "name": "stdout",
     "output_type": "stream",
     "text": [
      "Trained Coefficients = [1.039745075098896, -2.0239210269313657, 0.03516791765153595, -0.036761378384558736]\n"
     ]
    }
   ],
   "source": [
    "trained_coefficients = gd.gradient_descent(4, points_array, debug = False,learning_rate=0.000000001,attempts=50000000)\n",
    "print(f'Trained Coefficients = {trained_coefficients}')"
   ],
   "metadata": {
    "collapsed": false,
    "ExecuteTime": {
     "end_time": "2023-12-18T19:15:29.317976Z",
     "start_time": "2023-12-18T19:15:27.712301Z"
    }
   },
   "id": "6581b29eeda68fbe"
  },
  {
   "cell_type": "markdown",
   "source": [
    "## Plot the example Data\n",
    "\n",
    "Plot\n",
    "- The correct curve in red\n",
    "- The trained curve in blue\n",
    "- The Original data in yellow"
   ],
   "metadata": {
    "collapsed": false
   },
   "id": "a05b52a9e84e6d63"
  },
  {
   "cell_type": "code",
   "execution_count": 5,
   "outputs": [
    {
     "data": {
      "text/plain": "[<matplotlib.lines.Line2D at 0x109d6f490>]"
     },
     "execution_count": 5,
     "metadata": {},
     "output_type": "execute_result"
    },
    {
     "data": {
      "text/plain": "<Figure size 640x480 with 1 Axes>",
      "image/png": "[encoded data removed]"
     },
     "metadata": {},
     "output_type": "display_data"
    }
   ],
   "source": [
    "gd_points.get_scatter_points(points_array, plt, color='y') # Plot All The point data on the graph in yellow\n",
    "gd_points.draw_line(correct_coefficients, plt, color = 'r') # Plot a red line of the correct curve\n",
    "gd_points.draw_line(trained_coefficients, plt, color='b') # Plot a blur line of the trained curve"
   ],
   "metadata": {
    "collapsed": false,
    "ExecuteTime": {
     "end_time": "2023-12-18T19:15:29.383718Z",
     "start_time": "2023-12-18T19:15:29.319045Z"
    }
   },
   "id": "3bb44aa6116f9e39"
  },
  {
   "cell_type": "markdown",
   "source": [
    "The blue and red lines fully overlap showing this has been trained well"
   ],
   "metadata": {
    "collapsed": false
   },
   "id": "e0e8d565a6af4ec3"
  },
  {
   "cell_type": "markdown",
   "source": [
    "## Get the score of trained model\n",
    "\n",
    "This returns the average distance each point is away from the trained_line (lower is better)\n",
    "Calculated by getting sqrt( SSR) / number of points"
   ],
   "metadata": {
    "collapsed": false
   },
   "id": "666351112bffef0"
  },
  {
   "cell_type": "code",
   "execution_count": 6,
   "outputs": [
    {
     "name": "stdout",
     "output_type": "stream",
     "text": [
      "Score is 1.5901119378946067\n"
     ]
    }
   ],
   "source": [
    "print(f'Score is {gd.score(test_set,trained_coefficients)}')"
   ],
   "metadata": {
    "collapsed": false,
    "ExecuteTime": {
     "end_time": "2023-12-18T19:15:29.386095Z",
     "start_time": "2023-12-18T19:15:29.384381Z"
    }
   },
   "id": "9d9d5b4dc3bed51b"
  },
  {
   "cell_type": "code",
   "execution_count": 6,
   "outputs": [],
   "source": [],
   "metadata": {
    "collapsed": false,
    "ExecuteTime": {
     "end_time": "2023-12-18T19:15:29.388246Z",
     "start_time": "2023-12-18T19:15:29.386843Z"
    }
   },
   "id": "f43d842eec80592"
  }
 ],
 "metadata": {
  "kernelspec": {
   "display_name": "Python 3",
   "language": "python",
   "name": "python3"
  },
  "language_info": {
   "codemirror_mode": {
    "name": "ipython",
    "version": 2
   },
   "file_extension": ".py",
   "mimetype": "text/x-python",
   "name": "python",
   "nbconvert_exporter": "python",
   "pygments_lexer": "ipython2",
   "version": "2.7.6"
  }
 },
 "nbformat": 4,
 "nbformat_minor": 5
}
